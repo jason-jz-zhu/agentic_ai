{
 "cells": [
  {
   "cell_type": "code",
   "execution_count": 9,
   "metadata": {},
   "outputs": [
    {
     "name": "stdout",
     "output_type": "stream",
     "text": [
      "Collecting en-core-web-sm==3.8.0\n",
      "  Downloading https://github.com/explosion/spacy-models/releases/download/en_core_web_sm-3.8.0/en_core_web_sm-3.8.0-py3-none-any.whl (12.8 MB)\r\n",
      "\u001b[?25l     \u001b[90m━━━━━━━━━━━━━━━━━━━━━━━━━━━━━━━━━━━━━━━━\u001b[0m \u001b[32m0.0/12.8 MB\u001b[0m \u001b[31m?\u001b[0m eta \u001b[36m-:--:--\u001b[0m\r\u001b[2K     \u001b[91m━━━━━━━━━━━━\u001b[0m\u001b[90m╺\u001b[0m\u001b[90m━━━━━━━━━━━━━━━━━━━━━━━━━━━\u001b[0m \u001b[32m3.9/12.8 MB\u001b[0m \u001b[31m21.9 MB/s\u001b[0m eta \u001b[36m0:00:01\u001b[0m\r\u001b[2K     \u001b[90m━━━━━━━━━━━━━━━━━━━━━━━━━━━━━━━━━━━━━━━━\u001b[0m \u001b[32m12.8/12.8 MB\u001b[0m \u001b[31m33.8 MB/s\u001b[0m eta \u001b[36m0:00:00\u001b[0m\r\n",
      "\u001b[?25hInstalling collected packages: en-core-web-sm\r\n",
      "Successfully installed en-core-web-sm-3.8.0\r\n",
      "\u001b[38;5;2m✔ Download and installation successful\u001b[0m\r\n",
      "You can now load the package via spacy.load('en_core_web_sm')\r\n"
     ]
    }
   ],
   "source": [
    "!python -m spacy download en_core_web_sm"
   ]
  },
  {
   "cell_type": "code",
   "execution_count": 10,
   "metadata": {},
   "outputs": [
    {
     "name": "stderr",
     "output_type": "stream",
     "text": [
      "2025-03-15 22:12:30.650 Thread 'MainThread': missing ScriptRunContext! This warning can be ignored when running in bare mode.\n"
     ]
    }
   ],
   "source": [
    "import spacy\n",
    "import streamlit as st\n",
    "\n",
    "# Load the small English model from spaCy\n",
    "nlp = spacy.load(\"en_core_web_sm\")\n",
    "\n",
    "st.set_page_config(\n",
    "    page_title=\"NER with spaCy\",\n",
    "    page_icon=\"🏷️\",\n",
    ")"
   ]
  },
  {
   "cell_type": "code",
   "execution_count": 11,
   "metadata": {},
   "outputs": [],
   "source": [
    "def annotate_text(text):\n",
    "    \"\"\"Generate annotations for given text.\"\"\"\n",
    "    doc = nlp(text)\n",
    "    annotated_text = \"\"\n",
    "    last_idx = 0\n",
    "    for ent in doc.ents:\n",
    "        annotated_text += text[last_idx : ent.start_char]\n",
    "        color = \"gray\"  # Default color if not matched below\n",
    "        if ent.label_ in [\"PERSON\", \"NORP\", \"GPE\"]:\n",
    "            color = \"blue\"\n",
    "        elif ent.label_ in [\"ORG\", \"EVENT\"]:\n",
    "            color = \"green\"\n",
    "        elif ent.label_ in [\"DATE\", \"TIME\"]:\n",
    "            color = \"orange\"\n",
    "        elif ent.label_ in [\"MONEY\", \"QUANTITY\", \"ORDINAL\", \"CARDINAL\"]:\n",
    "            color = \"red\"\n",
    "\n",
    "        # Use Streamlit's markdown with custom background color\n",
    "        annotated_text += f\":{color}-background[{text[ent.start_char:ent.end_char]}]\"\n",
    "        last_idx = ent.end_char\n",
    "    annotated_text += text[last_idx:]  # Append any remaining text\n",
    "    return annotated_text"
   ]
  },
  {
   "cell_type": "code",
   "execution_count": 12,
   "metadata": {},
   "outputs": [
    {
     "name": "stderr",
     "output_type": "stream",
     "text": [
      "2025-03-15 22:12:36.342 Thread 'MainThread': missing ScriptRunContext! This warning can be ignored when running in bare mode.\n",
      "2025-03-15 22:12:36.343 Thread 'MainThread': missing ScriptRunContext! This warning can be ignored when running in bare mode.\n",
      "2025-03-15 22:12:36.343 Thread 'MainThread': missing ScriptRunContext! This warning can be ignored when running in bare mode.\n",
      "2025-03-15 22:12:36.344 Thread 'MainThread': missing ScriptRunContext! This warning can be ignored when running in bare mode.\n",
      "2025-03-15 22:12:36.344 Thread 'MainThread': missing ScriptRunContext! This warning can be ignored when running in bare mode.\n",
      "2025-03-15 22:12:36.345 Thread 'MainThread': missing ScriptRunContext! This warning can be ignored when running in bare mode.\n",
      "2025-03-15 22:12:36.345 Thread 'MainThread': missing ScriptRunContext! This warning can be ignored when running in bare mode.\n",
      "2025-03-15 22:12:36.345 Thread 'MainThread': missing ScriptRunContext! This warning can be ignored when running in bare mode.\n",
      "2025-03-15 22:12:36.346 Thread 'MainThread': missing ScriptRunContext! This warning can be ignored when running in bare mode.\n",
      "2025-03-15 22:12:36.346 Thread 'MainThread': missing ScriptRunContext! This warning can be ignored when running in bare mode.\n"
     ]
    }
   ],
   "source": [
    "st.header(\"NER with spaCy and Streamlit\", divider=True)\n",
    "st.caption(\n",
    "    \"\"\"\n",
    "This demo showcases [Named Entity Recognition (NER)](https://spacy.io/usage/linguistic-features#named-entities) using spaCy and Streamlit. \n",
    "The text you enter will be analyzed, and named entities will be highlighted with different background colors based on their entity type.\"\"\"\n",
    ")\n",
    "\n",
    "user_input = st.text_area(\n",
    "    \"Enter text\",\n",
    "    \"\"\"Elon Musk, the CEO of Tesla, Inc., announced that the company had chosen Berlin as the site for its European Gigafactory. \n",
    "\n",
    "The announcement was made on November 12, 2019, during an awards ceremony. \n",
    "Tesla plans to invest around $4 billion in this new facility, aiming to start production by 2021. \n",
    "This strategic move is expected to boost the economy of Germany and provide thousands of jobs in the region.\"\"\",\n",
    "    height=150,\n",
    ")"
   ]
  },
  {
   "cell_type": "code",
   "execution_count": 13,
   "metadata": {},
   "outputs": [
    {
     "name": "stderr",
     "output_type": "stream",
     "text": [
      "2025-03-15 22:12:37.864 Thread 'MainThread': missing ScriptRunContext! This warning can be ignored when running in bare mode.\n",
      "2025-03-15 22:12:37.865 Thread 'MainThread': missing ScriptRunContext! This warning can be ignored when running in bare mode.\n",
      "2025-03-15 22:12:37.865 Thread 'MainThread': missing ScriptRunContext! This warning can be ignored when running in bare mode.\n"
     ]
    }
   ],
   "source": [
    "with st.sidebar.expander(\"Annotation legend\", expanded=True):\n",
    "    st.markdown(\n",
    "        \"\"\"\n",
    "    The text you enter will be analyzed, and named entities will be highlighted with different background colors based on their entity type.\n",
    "    \n",
    "    The colors used are as follows:\n",
    "    - :blue-background[Blue]: PERSON, NORP, GPE\n",
    "    - :green-background[Green]: ORG, EVENT\n",
    "    - :orange-background[Orange]: DATE, TIME\n",
    "    - :red-background[Red]: MONEY, QUANTITY, ORDINAL, CARDINAL\n",
    "    \n",
    "    Note: The colors are based on the spaCy entity types, and the color choices are arbitrary.\n",
    "    \"\"\"\n",
    "    )"
   ]
  },
  {
   "cell_type": "code",
   "execution_count": 14,
   "metadata": {},
   "outputs": [],
   "source": [
    "annotated_text = annotate_text(user_input)\n"
   ]
  },
  {
   "cell_type": "code",
   "execution_count": 15,
   "metadata": {},
   "outputs": [
    {
     "name": "stderr",
     "output_type": "stream",
     "text": [
      "2025-03-15 22:12:47.093 Thread 'MainThread': missing ScriptRunContext! This warning can be ignored when running in bare mode.\n",
      "2025-03-15 22:12:47.095 Thread 'MainThread': missing ScriptRunContext! This warning can be ignored when running in bare mode.\n"
     ]
    },
    {
     "data": {
      "text/plain": [
       "DeltaGenerator()"
      ]
     },
     "execution_count": 15,
     "metadata": {},
     "output_type": "execute_result"
    }
   ],
   "source": [
    "st.markdown(annotated_text)"
   ]
  },
  {
   "cell_type": "code",
   "execution_count": null,
   "metadata": {},
   "outputs": [],
   "source": []
  }
 ],
 "metadata": {
  "kernelspec": {
   "display_name": "agenticAI",
   "language": "python",
   "name": "python3"
  },
  "language_info": {
   "codemirror_mode": {
    "name": "ipython",
    "version": 3
   },
   "file_extension": ".py",
   "mimetype": "text/x-python",
   "name": "python",
   "nbconvert_exporter": "python",
   "pygments_lexer": "ipython3",
   "version": "3.10.16 (main, Dec 11 2024, 10:22:29) [Clang 14.0.6 ]"
  },
  "orig_nbformat": 4,
  "vscode": {
   "interpreter": {
    "hash": "230451d0164ef7b914455888cb522bb8f0b58f3725eda5c2483e9e3716546f61"
   }
  }
 },
 "nbformat": 4,
 "nbformat_minor": 2
}
